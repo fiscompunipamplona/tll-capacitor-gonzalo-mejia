{
 "cells": [
  {
   "cell_type": "markdown",
   "metadata": {},
   "source": [
    "Considere el siguiente modelo simple de un condensador electrónico, que consta de dos placas metálicas planas encerradas en una caja metálica cuadrada:\n",
    "\n",
    "<img src=\"ejercicio9.3.png\"> \n",
    "\n",
    "Para simplificar, modelemos el sistema en dos dimensiones. Usando cualquiera de los métodos que hemos estudiado, escriba un programa para calcular el potencial electrostático en la caja en una cuadrícula de 100 × 100 puntos, donde las paredes de la caja están en voltaje cero y las dos placas (que son de espesor insignificante) están en voltajes ± 1 V como se muestra. Haga que su programa calcule el valor del potencial en cada punto de la cuadrícula con una precisión de 10 a 6 voltios y luego haga un diagrama de densidad del resultado.\n",
    "\n",
    "Sugerencia: Observe que las placas del condensador tienen un voltaje fijo, no una carga fija, por lo que este problema difiere del problema con las dos cargas en el ejercicio 9.1. En efecto, las placas de condensadores son parte de la condición de límite en este caso: se comportan de la misma manera que las paredes de la caja, con potenciales fijados a un cierto valor y que no pueden cambiar."
   ]
  },
  {
   "cell_type": "code",
   "execution_count": 1,
   "metadata": {},
   "outputs": [],
   "source": [
    "from numpy import zeros\n",
    "from pylab import imshow, gray, show, cool\n"
   ]
  },
  {
   "cell_type": "code",
   "execution_count": 2,
   "metadata": {},
   "outputs": [
    {
     "data": {
      "image/png": "[encoded data removed]",
      "text/plain": [
       "<Figure size 432x288 with 1 Axes>"
      ]
     },
     "metadata": {
      "needs_background": "light"
     },
     "output_type": "display_data"
    }
   ],
   "source": [
    "# Constantes\n",
    "\n",
    "V = 1.0  # voltios\n",
    "a = 0.1  # espaciado de cuadrícula en centímetros\n",
    "N = 100  # número de puntos de cuadrícula\n",
    "delta = 10 ** -6  # voltios\n",
    "omega = 0.9\n",
    "\n",
    "def larger(a, b):\n",
    "    if a >= b:\n",
    "        return a\n",
    "    else:\n",
    "        return b\n",
    "\n",
    "# Resuelve la ecuación de Poisson usando el método de relajación de Gauss-Seidel\n",
    "\n",
    "max_diff = 2 * delta\n",
    "\n",
    "# iniciando array\n",
    "\n",
    "phi = zeros([N + 1, N + 1], float)\n",
    "phi[20:81, 20] = V\n",
    "phi[20:81, 80] = -V\n",
    "while max_diff > delta:\n",
    "    #  restableciendo la diferencia máxima después de cada actualización completa de la cuadrícula\n",
    "    max_diff = 0.0\n",
    "    for i in range(N + 1):\n",
    "        for j in range(N + 1):\n",
    "            if not i == 0 and not j == 0 and not i == N and not j == N and not (20 <= i <= 80 and j == 20 or j == 80):\n",
    "                old_phi = phi[i,j]\n",
    "                new_phi = (1 + omega) * (phi[i + 1, j] + phi[i - 1, j] + phi[i, j + 1] + phi[i, j - 1]) / 4 \\\n",
    "                          - omega * old_phi\n",
    "                phi[i, j] = new_phi\n",
    "\n",
    "                # teniendo en cuenta el mayor cambio en phi en esta actualización de la cuadrícula\n",
    "                max_diff = larger(max_diff, abs(new_phi - old_phi))\n",
    "    #print(\"max_diff = \", max_diff)\n",
    "\n",
    "\n",
    "imshow(phi)\n",
    "cool()\n",
    "show()\n"
   ]
  },
  {
   "cell_type": "code",
   "execution_count": null,
   "metadata": {},
   "outputs": [],
   "source": []
  }
 ],
 "metadata": {
  "kernelspec": {
   "display_name": "Python 3",
   "language": "python",
   "name": "python3"
  },
  "language_info": {
   "codemirror_mode": {
    "name": "ipython",
    "version": 3
   },
   "file_extension": ".py",
   "mimetype": "text/x-python",
   "name": "python",
   "nbconvert_exporter": "python",
   "pygments_lexer": "ipython3",
   "version": "3.5.2"
  }
 },
 "nbformat": 4,
 "nbformat_minor": 2
}
